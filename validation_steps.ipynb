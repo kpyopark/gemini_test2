{
 "cells": [
  {
   "cell_type": "markdown",
   "metadata": {},
   "source": [
    "## Evaluation Step (with Gemini Pro)"
   ]
  },
  {
   "cell_type": "code",
   "execution_count": 1,
   "metadata": {},
   "outputs": [],
   "source": [
    "from vertexai.preview.generative_models import (\n",
    "    GenerationConfig,\n",
    "    GenerativeModel,\n",
    "    Image,\n",
    "    Part,\n",
    "    HarmBlockThreshold,\n",
    "    HarmCategory,\n",
    ")"
   ]
  },
  {
   "cell_type": "code",
   "execution_count": 8,
   "metadata": {},
   "outputs": [],
   "source": [
    "import os\n",
    "\n",
    "# Set the environment variable before running the script. You can set it in the terminal or in the code.\n",
    "# os.environ[\"BUCKET_UPLOAD_TEMP\"] = \"<your-bucket>\"\n",
    "# bucket_name = os.environ.get(\"BUCKET_UPLOAD_TEMP\")\n"
   ]
  },
  {
   "cell_type": "code",
   "execution_count": 9,
   "metadata": {},
   "outputs": [],
   "source": [
    "from google.cloud import storage\n",
    "\n",
    "def upload_file_to_temp_bucket(file_name):\n",
    "    storage_client = storage.Client()\n",
    "    bucket = storage_client.bucket(bucket_name)\n",
    "\n",
    "    blob = bucket.blob(file_name)\n",
    "    blob.upload_from_filename(file_name)\n",
    "    \n",
    "    return blob.public_url.replace(\"https://storage.googleapis.com/\", \"gs://\")"
   ]
  },
  {
   "cell_type": "code",
   "execution_count": 10,
   "metadata": {},
   "outputs": [],
   "source": [
    "gemini_model = GenerativeModel(\"gemini-pro-vision\")\n"
   ]
  },
  {
   "cell_type": "code",
   "execution_count": 25,
   "metadata": {},
   "outputs": [],
   "source": [
    "def generate_catch_phrases(business_goal, local_image_resource):\n",
    "  output_json = \"\"\"\n",
    "  { \"phrases\": [\"당신에게 더 많은 활력을. 스피디 테니스화\", \"코트와의 일체감. 스피디 테니스화\", \"테니스공보다 빠른 운동화\", \"만들기가 어려운 테니스화\", \"테니스계의 이단아\"] }\n",
    "  \"\"\"\n",
    "  prompt_template = \"\"\"You are a copy writer for a telecom company. You need to write 5 short descriptions(copies) for a given business goal and image in json format\n",
    "\n",
    "  [output examples]\n",
    "  {output_json}\n",
    "\n",
    "  [business goal]\n",
    "  {business_goal}\n",
    "\n",
    "  [image]\n",
    "  \"\"\"\n",
    "\n",
    "  generation_config = GenerationConfig(\n",
    "      temperature=0.1,\n",
    "      max_output_tokens=2048,\n",
    "  )\n",
    "\n",
    "  safety_config = {\n",
    "      HarmCategory.HARM_CATEGORY_HARASSMENT: HarmBlockThreshold.BLOCK_NONE,\n",
    "      HarmCategory.HARM_CATEGORY_HATE_SPEECH: HarmBlockThreshold.BLOCK_NONE,\n",
    "      HarmCategory.HARM_CATEGORY_SEXUALLY_EXPLICIT: HarmBlockThreshold.BLOCK_NONE,\n",
    "      HarmCategory.HARM_CATEGORY_DANGEROUS_CONTENT: HarmBlockThreshold.BLOCK_NONE,\n",
    "  }\n",
    "\n",
    "  image_uri = upload_file_to_temp_bucket(local_image_resource)\n",
    "\n",
    "  prompt = prompt_template.format(output_json=output_json, business_goal = business_goal)\n",
    "  image = Part.from_uri(\n",
    "      uri=image_uri,\n",
    "      mime_type=\"image/jpeg\",\n",
    "  )\n",
    "  contents = [prompt, image]\n",
    "\n",
    "  responses = gemini_model.generate_content(contents, generation_config=generation_config, \n",
    "      safety_settings=safety_config, stream=False)\n",
    "\n",
    "  return responses"
   ]
  },
  {
   "cell_type": "code",
   "execution_count": 26,
   "metadata": {},
   "outputs": [],
   "source": [
    "responses = generate_catch_phrases(\"10대 20대를 위한 키치한 판매 문구. 최소 10자 이상. 30자 미만\", 'resources/black_shoes_on_the_beach.jpeg')"
   ]
  },
  {
   "cell_type": "code",
   "execution_count": 27,
   "metadata": {},
   "outputs": [
    {
     "data": {
      "text/plain": [
       "candidates {\n",
       "  content {\n",
       "    role: \"model\"\n",
       "    parts {\n",
       "      text: \" { \\\"phrases\\\": [\\\"가볍고 편안한 스니커즈\\\", \\\"젊음을 위한 최고의 신발\\\", \\\"활동적인 라이프 스타일을 위한 완벽한 신발\\\", \\\"최신 트렌드를 따르는 스타일리시한 신발\\\", \\\"친구와 어울리거나 외출하기에 좋은 신발\\\"] }\"\n",
       "    }\n",
       "  }\n",
       "  finish_reason: STOP\n",
       "  safety_ratings {\n",
       "    category: HARM_CATEGORY_HATE_SPEECH\n",
       "    probability: NEGLIGIBLE\n",
       "  }\n",
       "  safety_ratings {\n",
       "    category: HARM_CATEGORY_DANGEROUS_CONTENT\n",
       "    probability: NEGLIGIBLE\n",
       "  }\n",
       "  safety_ratings {\n",
       "    category: HARM_CATEGORY_HARASSMENT\n",
       "    probability: NEGLIGIBLE\n",
       "  }\n",
       "  safety_ratings {\n",
       "    category: HARM_CATEGORY_SEXUALLY_EXPLICIT\n",
       "    probability: NEGLIGIBLE\n",
       "  }\n",
       "}\n",
       "usage_metadata {\n",
       "  prompt_token_count: 422\n",
       "  candidates_token_count: 76\n",
       "  total_token_count: 498\n",
       "}"
      ]
     },
     "execution_count": 27,
     "metadata": {},
     "output_type": "execute_result"
    }
   ],
   "source": [
    "responses"
   ]
  },
  {
   "cell_type": "code",
   "execution_count": 28,
   "metadata": {},
   "outputs": [],
   "source": [
    "import json\n",
    "result_list = json.loads(responses.candidates[0].content.parts[0].text)\n"
   ]
  },
  {
   "cell_type": "code",
   "execution_count": 29,
   "metadata": {},
   "outputs": [
    {
     "data": {
      "text/plain": [
       "{'phrases': ['가볍고 편안한 스니커즈',\n",
       "  '젊음을 위한 최고의 신발',\n",
       "  '활동적인 라이프 스타일을 위한 완벽한 신발',\n",
       "  '최신 트렌드를 따르는 스타일리시한 신발',\n",
       "  '친구와 어울리거나 외출하기에 좋은 신발']}"
      ]
     },
     "execution_count": 29,
     "metadata": {},
     "output_type": "execute_result"
    }
   ],
   "source": [
    "result_list"
   ]
  },
  {
   "cell_type": "code",
   "execution_count": 30,
   "metadata": {},
   "outputs": [
    {
     "name": "stdout",
     "output_type": "stream",
     "text": [
      "가볍고 편안한 스니커즈\n",
      "젊음을 위한 최고의 신발\n",
      "활동적인 라이프 스타일을 위한 완벽한 신발\n",
      "최신 트렌드를 따르는 스타일리시한 신발\n",
      "친구와 어울리거나 외출하기에 좋은 신발\n"
     ]
    }
   ],
   "source": [
    "for phrase in result_list['phrases']:\n",
    "  print(phrase)"
   ]
  },
  {
   "cell_type": "code",
   "execution_count": 31,
   "metadata": {},
   "outputs": [],
   "source": [
    "\n",
    "def verify_phrase(phrase):\n",
    "\n",
    "  generation_config = GenerationConfig(\n",
    "      temperature=0.1,\n",
    "      max_output_tokens=2048,\n",
    "  )\n",
    "\n",
    "  safety_config = {\n",
    "      HarmCategory.HARM_CATEGORY_HARASSMENT: HarmBlockThreshold.BLOCK_NONE,\n",
    "      HarmCategory.HARM_CATEGORY_HATE_SPEECH: HarmBlockThreshold.BLOCK_NONE,\n",
    "      HarmCategory.HARM_CATEGORY_SEXUALLY_EXPLICIT: HarmBlockThreshold.BLOCK_NONE,\n",
    "      HarmCategory.HARM_CATEGORY_DANGEROUS_CONTENT: HarmBlockThreshold.BLOCK_NONE,\n",
    "  }\n",
    "  \n",
    "  verifier_prompt = \"\"\"You are the final marketing copy reviewer. Please check if the given copy has any potential issues when used as a marketing copy - e.g., racism, ageism, sexism - and express your score on it, between 0 and 100 points.\n",
    "\n",
    "  [phrase]\n",
    "  {phrase}\n",
    "  \"\"\"\n",
    "  contents = [verifier_prompt.format(phrase = phrase)]\n",
    "  responses = gemini_model.generate_content(contents, generation_config=generation_config, safety_settings=safety_config, stream=False)\n",
    "  return responses"
   ]
  },
  {
   "cell_type": "code",
   "execution_count": 33,
   "metadata": {},
   "outputs": [
    {
     "name": "stdout",
     "output_type": "stream",
     "text": [
      "phrase: 가볍고 편안한 스니커즈, score: The given phrase does not contain any potential issues such as racism, ageism, or sexism. It is a neutral and descriptive phrase that simply describes the product's features.\n",
      "\n",
      "Score: 100/100\n",
      "phrase: 젊음을 위한 최고의 신발, score: **Potential Issues:**\n",
      "\n",
      "* **Ageism:** The phrase implies that only young people can wear the shoes, which could be seen as excluding older adults.\n",
      "\n",
      "**Score:** 50/100\n",
      "\n",
      "**Recommendation:**\n",
      "\n",
      "To address the ageism issue, the phrase could be revised to something like:\n",
      "\n",
      "> \"The best shoes for people of all ages\"\n",
      "phrase: 활동적인 라이프 스타일을 위한 완벽한 신발, score: The given copy does not contain any potential issues related to racism, ageism, or sexism. It is a neutral statement that describes the product's intended use.\n",
      "\n",
      "Score: 100/100\n",
      "phrase: 최신 트렌드를 따르는 스타일리시한 신발, score: The given phrase does not contain any potential issues related to racism, ageism, or sexism. It is a neutral statement that describes the product's style.\n",
      "\n",
      "Score: 100/100\n",
      "phrase: 친구와 어울리거나 외출하기에 좋은 신발, score: The given phrase does not contain any potential issues related to racism, ageism, or sexism. It is a neutral statement that describes the purpose of the shoes.\n",
      "\n",
      "Score: 100/100\n"
     ]
    }
   ],
   "source": [
    "for phrase in result_list['phrases']:\n",
    "  responses = verify_phrase(phrase)\n",
    "  print(f\"phrase: {phrase}, score: {responses.candidates[0].content.parts[0].text}\")\n",
    "  "
   ]
  },
  {
   "cell_type": "code",
   "execution_count": 34,
   "metadata": {},
   "outputs": [],
   "source": [
    "def check_creativity(phrase):\n",
    "  generation_config = GenerationConfig(\n",
    "      temperature=0.1,\n",
    "      max_output_tokens=2048,\n",
    "  )\n",
    "\n",
    "  safety_config = {\n",
    "      HarmCategory.HARM_CATEGORY_HARASSMENT: HarmBlockThreshold.BLOCK_NONE,\n",
    "      HarmCategory.HARM_CATEGORY_HATE_SPEECH: HarmBlockThreshold.BLOCK_NONE,\n",
    "      HarmCategory.HARM_CATEGORY_SEXUALLY_EXPLICIT: HarmBlockThreshold.BLOCK_NONE,\n",
    "      HarmCategory.HARM_CATEGORY_DANGEROUS_CONTENT: HarmBlockThreshold.BLOCK_NONE,\n",
    "  }\n",
    "  \n",
    "  verifier_prompt = \"\"\"You are the final marketing copy reviewer. Please express, on a scale of 0 (low) to 100 (high), whether the given sentence is creative and conveys enough meaning to customers when used as a marketing copy.\n",
    "\n",
    "  [phrase]\n",
    "  {phrase}\n",
    "  \"\"\"\n",
    "  contents = [verifier_prompt.format(phrase = phrase)]\n",
    "  responses = gemini_model.generate_content(contents, generation_config=generation_config, safety_settings=safety_config, stream=False)\n",
    "  return responses"
   ]
  },
  {
   "cell_type": "code",
   "execution_count": 35,
   "metadata": {},
   "outputs": [
    {
     "name": "stdout",
     "output_type": "stream",
     "text": [
      "phrase: 가볍고 편안한 스니커즈, score: 70\n",
      "phrase: 젊음을 위한 최고의 신발, score: 70\n",
      "phrase: 활동적인 라이프 스타일을 위한 완벽한 신발, score: 70\n",
      "phrase: 최신 트렌드를 따르는 스타일리시한 신발, score: 75\n",
      "phrase: 친구와 어울리거나 외출하기에 좋은 신발, score: 50\n"
     ]
    }
   ],
   "source": [
    "for phrase in result_list['phrases']:\n",
    "  responses = check_creativity(phrase)\n",
    "  print(f\"phrase: {phrase}, score: {responses.candidates[0].content.parts[0].text}\")  "
   ]
  },
  {
   "cell_type": "markdown",
   "metadata": {},
   "source": [
    "## For Text Bison"
   ]
  },
  {
   "cell_type": "code",
   "execution_count": 36,
   "metadata": {},
   "outputs": [],
   "source": [
    "from vertexai.language_models import (\n",
    "    TextGenerationModel,\n",
    "    TextEmbeddingModel,\n",
    "    ChatModel,\n",
    "    InputOutputTextPair,\n",
    "    CodeGenerationModel,\n",
    "    CodeChatModel,\n",
    ")"
   ]
  },
  {
   "cell_type": "code",
   "execution_count": 38,
   "metadata": {},
   "outputs": [],
   "source": [
    "text_model_old_api = TextGenerationModel.from_pretrained(\"text-bison@002\")\n"
   ]
  },
  {
   "cell_type": "code",
   "execution_count": 43,
   "metadata": {},
   "outputs": [],
   "source": [
    "def generate_catch_phrases_by_textbison(business_goal, target_product_description):\n",
    "  output_json = \"\"\"\n",
    "  { \"phrases\": [\"당신에게 더 많은 활력을. 스피디 테니스화\", \"코트와의 일체감. 스피디 테니스화\", \"테니스공보다 빠른 운동화\", \"만들기가 어려운 테니스화\", \"테니스계의 이단아\"] }\n",
    "  \"\"\"\n",
    "  prompt_template = \"\"\"You are a copy writer for a retail company in Korea. You need to write 5 short descriptions(copies) for a given business goal and product description in json format\n",
    "\n",
    "  [output examples]\n",
    "  {output_json}\n",
    "\n",
    "  [business goal]\n",
    "  {business_goal}\n",
    "\n",
    "  [ad target product description]\n",
    "  {target_product_description}\n",
    "  \"\"\"\n",
    "\n",
    "  prompt = prompt_template.format(output_json=output_json, business_goal = business_goal, target_product_description = target_product_description)\n",
    "  parameters = {\n",
    "      \"temperature\": 0.2,\n",
    "      \"max_output_tokens\": 2048,  # Token limit determines the maximum amount of text output.\n",
    "      \"top_p\": 0.8,  # Tokens are selected from most probable to least until the sum of their probabilities equals the top_p value.\n",
    "      \"top_k\": 40,  # A top_k of 1 means the selected token is the most probable among all tokens.\n",
    "  }\n",
    "  responses = text_model_old_api.predict(prompt=prompt, **parameters)\n",
    "\n",
    "  return responses.text"
   ]
  },
  {
   "cell_type": "code",
   "execution_count": 47,
   "metadata": {},
   "outputs": [],
   "source": [
    "results = generate_catch_phrases_by_textbison(\"10대 20대를 위한 키치한 판매 문구. 최소 10자 이상. 30자 미만\", \"바삭바삭한 질감이 일품인 포테이토 칩\")"
   ]
  },
  {
   "cell_type": "code",
   "execution_count": 48,
   "metadata": {},
   "outputs": [
    {
     "name": "stdout",
     "output_type": "stream",
     "text": [
      " { \"phrases\": [\"바삭한 맛이 일품인 포테이토 칩\", \"한 입 베어 물면 멈출 수 없는 포테이토 칩\", \"바삭한 맛이 입안 가득 퍼지는 포테이토 칩\", \"한 번 먹으면 잊을 수 없는 포테이토 칩\", \"바삭한 맛이 넘치는 포테이토 칩\"] }\n"
     ]
    }
   ],
   "source": [
    "print(results)"
   ]
  },
  {
   "cell_type": "code",
   "execution_count": 49,
   "metadata": {},
   "outputs": [],
   "source": [
    "result_json = json.loads(results)\n"
   ]
  },
  {
   "cell_type": "code",
   "execution_count": 51,
   "metadata": {},
   "outputs": [],
   "source": [
    "def verify_phrase_by_textbison(phrase):\n",
    "\n",
    "  verifier_prompt = \"\"\"You are the final marketing copy reviewer. Please check if the given copy has any potential issues when used as a marketing copy - e.g., racism, ageism, sexism - and express your score on it, between 0 and 100 points.\n",
    "\n",
    "  [phrase]\n",
    "  {phrase}\n",
    "  \"\"\"\n",
    "\n",
    "  parameters = {\n",
    "      \"temperature\": 0.2,\n",
    "      \"max_output_tokens\": 2048,  # Token limit determines the maximum amount of text output.\n",
    "      \"top_p\": 0.8,  # Tokens are selected from most probable to least until the sum of their probabilities equals the top_p value.\n",
    "      \"top_k\": 40,  # A top_k of 1 means the selected token is the most probable among all tokens.\n",
    "  }\n",
    "  responses = text_model_old_api.predict(prompt=verifier_prompt.format(phrase=phrase), **parameters)\n",
    "  return responses.text"
   ]
  },
  {
   "cell_type": "code",
   "execution_count": 53,
   "metadata": {},
   "outputs": [
    {
     "name": "stdout",
     "output_type": "stream",
     "text": [
      "phrase: 바삭한 맛이 일품인 포테이토 칩, score:  **Score: 90/100**\n",
      "\n",
      "The phrase \"바삭한 맛이 일품인 포테이토 칩\" is a marketing copy for potato chips. It describes the product as having an excellent crispy taste. There are no potential issues of racism, ageism, or sexism in this phrase. It is a simple and straightforward description of the product.\n",
      "phrase: 한 입 베어 물면 멈출 수 없는 포테이토 칩, score:  **Score: 85/100**\n",
      "\n",
      "The phrase \"한 입 베어 물면 멈출 수 없는 포테이토 칩\" is a marketing copy for potato chips. It means \"Potato chips that you can't stop eating once you take a bite.\" There are no obvious issues of racism, ageism, or sexism in the phrase. However, it may be considered slightly suggestive as it implies that the potato chips are so delicious that people will lose control and keep eating them. This could be seen as a negative aspect of the product, as it may lead to overeating and weight gain. Overall, the phrase is effective in conveying the message that the potato chips are delicious and addictive, but it may need to be revised to avoid any potential negative connotations.\n",
      "phrase: 바삭한 맛이 입안 가득 퍼지는 포테이토 칩, score:  **Score: 80/100**\n",
      "\n",
      "The phrase \"바삭한 맛이 입안 가득 퍼지는 포테이토 칩\" is a marketing copy for potato chips. It describes the product's taste and texture, which is crispy and flavorful. The phrase is simple and easy to understand, and it effectively conveys the product's main selling point.\n",
      "\n",
      "However, there are a few potential issues with the phrase. First, it may be considered somewhat ageist, as it implies that the product is only for young people. Second, it may be considered somewhat sexist, as it uses the word \"맛이\" which is typically used to describe the taste of food that is enjoyed by men.\n",
      "\n",
      "Overall, the phrase is effective in conveying the product's main selling point, but it may have some potential issues with ageism and sexism.\n",
      "phrase: 한 번 먹으면 잊을 수 없는 포테이토 칩, score:  **Score: 95/100**\n",
      "\n",
      "The phrase \"한 번 먹으면 잊을 수 없는 포테이토 칩\" is a marketing copy for potato chips. It translates to \"Potato chips that you can't forget once you eat them.\" This phrase does not contain any potential issues such as racism, ageism, or sexism. It is a simple and straightforward statement that highlights the deliciousness of the potato chips. The phrase is also concise and easy to remember, which makes it effective as a marketing copy.\n",
      "phrase: 바삭한 맛이 넘치는 포테이토 칩, score:  **Score: 90/100**\n",
      "\n",
      "The phrase \"바삭한 맛이 넘치는 포테이토 칩\" is a simple and straightforward description of a potato chip. It is not offensive and does not contain any racist, ageist, or sexist language. However, it is also not particularly creative or memorable. A more creative and memorable phrase could potentially score higher.\n"
     ]
    }
   ],
   "source": [
    "for phrase in result_json['phrases']:\n",
    "  responses = verify_phrase_by_textbison(phrase)\n",
    "  print(f\"phrase: {phrase}, score: {responses}\")\n"
   ]
  }
 ],
 "metadata": {
  "kernelspec": {
   "display_name": ".venv",
   "language": "python",
   "name": "python3"
  },
  "language_info": {
   "codemirror_mode": {
    "name": "ipython",
    "version": 3
   },
   "file_extension": ".py",
   "mimetype": "text/x-python",
   "name": "python",
   "nbconvert_exporter": "python",
   "pygments_lexer": "ipython3",
   "version": "3.8.5"
  }
 },
 "nbformat": 4,
 "nbformat_minor": 2
}
