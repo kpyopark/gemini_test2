{
 "cells": [
  {
   "cell_type": "code",
   "execution_count": 4,
   "metadata": {},
   "outputs": [],
   "source": [
    "from vertexai.preview.generative_models import (\n",
    "    GenerationConfig,\n",
    "    GenerativeModel,\n",
    "    Image,\n",
    "    Part,\n",
    "    HarmBlockThreshold,\n",
    "    HarmCategory,\n",
    ")"
   ]
  },
  {
   "cell_type": "code",
   "execution_count": 1,
   "metadata": {},
   "outputs": [],
   "source": [
    "import os\n",
    "\n",
    "# Set the environment variable before running the script. You can set it in the terminal or in the code.\n",
    "# os.environ[\"BUCKET_UPLOAD_TEMP\"] = \"<your-bucket>\""
   ]
  },
  {
   "cell_type": "code",
   "execution_count": 6,
   "metadata": {},
   "outputs": [],
   "source": [
    "from google.cloud import storage\n",
    "\n",
    "def upload_file_to_temp_bucket(file_name):\n",
    "    storage_client = storage.Client()\n",
    "    bucket = storage_client.bucket(bucket_name)\n",
    "\n",
    "    blob = bucket.blob(file_name)\n",
    "    blob.upload_from_filename(file_name)\n",
    "    \n",
    "    return blob.public_url.replace(\"https://storage.googleapis.com/\", \"gs://\")"
   ]
  },
  {
   "cell_type": "code",
   "execution_count": 5,
   "metadata": {},
   "outputs": [],
   "source": [
    "gemini_model = GenerativeModel(\"gemini-pro-vision\")\n"
   ]
  },
  {
   "cell_type": "code",
   "execution_count": 24,
   "metadata": {},
   "outputs": [],
   "source": [
    "def generate_catch_phrases(business_goal, local_image_resource):\n",
    "\n",
    "  prompt_template = \"\"\"You are a copy writer for a telecom company. You need to write 5 short descriptions(copies) for a given business goal and image in json format\n",
    "\n",
    "  [business goal]\n",
    "  {business_goal}\n",
    "\n",
    "  [image]\n",
    "  \"\"\"\n",
    "\n",
    "  generation_config = GenerationConfig(\n",
    "      temperature=0.1,\n",
    "      max_output_tokens=2048,\n",
    "  )\n",
    "\n",
    "  safety_config = {\n",
    "      HarmCategory.HARM_CATEGORY_HARASSMENT: HarmBlockThreshold.BLOCK_NONE,\n",
    "      HarmCategory.HARM_CATEGORY_HATE_SPEECH: HarmBlockThreshold.BLOCK_NONE,\n",
    "      HarmCategory.HARM_CATEGORY_SEXUALLY_EXPLICIT: HarmBlockThreshold.BLOCK_NONE,\n",
    "      HarmCategory.HARM_CATEGORY_DANGEROUS_CONTENT: HarmBlockThreshold.BLOCK_NONE,\n",
    "  }\n",
    "\n",
    "  image_uri = upload_file_to_temp_bucket(local_image_resource)\n",
    "\n",
    "  prompt = prompt_template.format(business_goal = business_goal)\n",
    "  image = Part.from_uri(\n",
    "      uri=image_uri,\n",
    "      mime_type=\"image/jpeg\",\n",
    "  )\n",
    "  contents = [prompt, image]\n",
    "\n",
    "  responses = gemini_model.generate_content(contents, generation_config=generation_config, \n",
    "      safety_settings=safety_config, stream=False)\n",
    "\n",
    "  return responses"
   ]
  },
  {
   "cell_type": "code",
   "execution_count": 25,
   "metadata": {},
   "outputs": [],
   "source": [
    "responses = generate_catch_phrases(\"10대 20대를 위한 키치한 판매 문구. 최소 10자 이상. 30자 미만\", 'resources/black_shoes_on_the_beach.jpeg')"
   ]
  },
  {
   "cell_type": "code",
   "execution_count": 28,
   "metadata": {},
   "outputs": [],
   "source": [
    "result_list = responses.candidates[0].content.parts[0].text.split('\\n')"
   ]
  },
  {
   "cell_type": "code",
   "execution_count": 29,
   "metadata": {},
   "outputs": [
    {
     "name": "stdout",
     "output_type": "stream",
     "text": [
      " 1. **젊음을 위한 신발, ****젊음을 위한 신발****.**\n",
      "2. **세련된 디자인, 편안한 착용감, 완벽한 핏.**\n",
      "3. **10대 20대를 위한 키치한 판매 문구. 최소 10자 이상. 30자 미만.**\n",
      "4. **슈즈가 필요하세요? 지금 바로 주문하세요!**\n",
      "5. **최고의 품질, 최저의 가격. 지금 바로 구매하세요!**\n"
     ]
    }
   ],
   "source": [
    "for phrase in result_list:\n",
    "  print(phrase)"
   ]
  },
  {
   "cell_type": "code",
   "execution_count": 32,
   "metadata": {},
   "outputs": [],
   "source": [
    "\n",
    "def verify_phrase(phrase):\n",
    "\n",
    "  generation_config = GenerationConfig(\n",
    "      temperature=0.1,\n",
    "      max_output_tokens=2048,\n",
    "  )\n",
    "\n",
    "  safety_config = {\n",
    "      HarmCategory.HARM_CATEGORY_HARASSMENT: HarmBlockThreshold.BLOCK_NONE,\n",
    "      HarmCategory.HARM_CATEGORY_HATE_SPEECH: HarmBlockThreshold.BLOCK_NONE,\n",
    "      HarmCategory.HARM_CATEGORY_SEXUALLY_EXPLICIT: HarmBlockThreshold.BLOCK_NONE,\n",
    "      HarmCategory.HARM_CATEGORY_DANGEROUS_CONTENT: HarmBlockThreshold.BLOCK_NONE,\n",
    "  }\n",
    "  \n",
    "  verifier_prompt = \"\"\"You are the final marketing copy reviewer. Please check if the given copy has any potential issues when used as a marketing copy - e.g., racism, ageism, sexism - and express your score on it, between 0 and 100 points.\n",
    "\n",
    "  [phrase]\n",
    "  {phrase}\n",
    "  \"\"\"\n",
    "  contents = [verifier_prompt.format(phrase = phrase)]\n",
    "  responses = gemini_model.generate_content(contents, generation_config=generation_config, safety_settings=safety_config, stream=False)\n",
    "  return responses"
   ]
  },
  {
   "cell_type": "code",
   "execution_count": 35,
   "metadata": {},
   "outputs": [
    {
     "name": "stdout",
     "output_type": "stream",
     "text": [
      "phrase:  1. **젊음을 위한 신발, ****젊음을 위한 신발****.**, score: **Score:** 0/100\n",
      "\n",
      "**Potential Issues:**\n",
      "\n",
      "* **Ageism:** The phrase implies that only young people should wear these shoes, which could be offensive to older adults.\n",
      "phrase: 2. **세련된 디자인, 편안한 착용감, 완벽한 핏.**, score: The given phrase does not contain any potential issues related to racism, ageism, or sexism. It is a neutral description of a product's features.\n",
      "\n",
      "Score: 100/100\n",
      "phrase: 3. **10대 20대를 위한 키치한 판매 문구. 최소 10자 이상. 30자 미만.**, score: The phrase \"10대 20대를 위한 키치한 판매 문구\" is potentially ageist as it excludes people outside of the specified\n",
      "phrase: 4. **슈즈가 필요하세요? 지금 바로 주문하세요!**, score: The given phrase does not contain any potential issues related to racism, ageism, or sexism. It is a simple and straightforward call to action that encourages the reader to order shoes.\n",
      "\n",
      "Score: 100/100\n",
      "phrase: 5. **최고의 품질, 최저의 가격. 지금 바로 구매하세요!**, score: The phrase \"최고의 품질, 최저의 가격. 지금 바로 구매하세요!\" does not contain any potential issues related to racism, ageism, or sexism. It is a simple and straightforward marketing statement that promotes the product's quality and affordability.\n",
      "\n",
      "Score: 100/100\n"
     ]
    }
   ],
   "source": [
    "for phrase in result_list:\n",
    "  responses = verify_phrase(phrase)\n",
    "  print(f\"phrase: {phrase}, score: {responses.candidates[0].content.parts[0].text}\")\n",
    "  "
   ]
  },
  {
   "cell_type": "code",
   "execution_count": 36,
   "metadata": {},
   "outputs": [],
   "source": [
    "def check_creativity(phrase):\n",
    "  generation_config = GenerationConfig(\n",
    "      temperature=0.1,\n",
    "      max_output_tokens=2048,\n",
    "  )\n",
    "\n",
    "  safety_config = {\n",
    "      HarmCategory.HARM_CATEGORY_HARASSMENT: HarmBlockThreshold.BLOCK_NONE,\n",
    "      HarmCategory.HARM_CATEGORY_HATE_SPEECH: HarmBlockThreshold.BLOCK_NONE,\n",
    "      HarmCategory.HARM_CATEGORY_SEXUALLY_EXPLICIT: HarmBlockThreshold.BLOCK_NONE,\n",
    "      HarmCategory.HARM_CATEGORY_DANGEROUS_CONTENT: HarmBlockThreshold.BLOCK_NONE,\n",
    "  }\n",
    "  \n",
    "  verifier_prompt = \"\"\"You are the final marketing copy reviewer. Please express, on a scale of 0 (low) to 100 (high), whether the given sentence is creative and conveys enough meaning to customers when used as a marketing copy.\n",
    "\n",
    "  [phrase]\n",
    "  {phrase}\n",
    "  \"\"\"\n",
    "  contents = [verifier_prompt.format(phrase = phrase)]\n",
    "  responses = gemini_model.generate_content(contents, generation_config=generation_config, safety_settings=safety_config, stream=False)\n",
    "  return responses"
   ]
  },
  {
   "cell_type": "code",
   "execution_count": 37,
   "metadata": {},
   "outputs": [
    {
     "name": "stdout",
     "output_type": "stream",
     "text": [
      "phrase:  1. **젊음을 위한 신발, ****젊음을 위한 신발****.**, score: 50\n",
      "phrase: 2. **세련된 디자인, 편안한 착용감, 완벽한 핏.**, score: 80\n",
      "phrase: 3. **10대 20대를 위한 키치한 판매 문구. 최소 10자 이상. 30자 미만.**, score: 0\n",
      "phrase: 4. **슈즈가 필요하세요? 지금 바로 주문하세요!**, score: 50\n",
      "phrase: 5. **최고의 품질, 최저의 가격. 지금 바로 구매하세요!**, score: 50\n"
     ]
    }
   ],
   "source": [
    "for phrase in result_list:\n",
    "  responses = check_creativity(phrase)\n",
    "  print(f\"phrase: {phrase}, score: {responses.candidates[0].content.parts[0].text}\")  "
   ]
  }
 ],
 "metadata": {
  "kernelspec": {
   "display_name": ".venv",
   "language": "python",
   "name": "python3"
  },
  "language_info": {
   "codemirror_mode": {
    "name": "ipython",
    "version": 3
   },
   "file_extension": ".py",
   "mimetype": "text/x-python",
   "name": "python",
   "nbconvert_exporter": "python",
   "pygments_lexer": "ipython3",
   "version": "3.8.5"
  }
 },
 "nbformat": 4,
 "nbformat_minor": 2
}
